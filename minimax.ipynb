{
 "cells": [
  {
   "cell_type": "code",
   "execution_count": null,
   "metadata": {},
   "outputs": [],
   "source": [
    "import math\n",
    "from sys import maxsize\n",
    "%run gamegui.ipynb\n",
    "%run gamecli.ipynb\n",
    "%run heuristics.ipynb"
   ]
  },
  {
   "cell_type": "markdown",
   "metadata": {},
   "source": [
    "## Funciones de utilidad\n",
    "\n",
    "Estas son las diferentes funciones de utilidad que se pueden utilizar."
   ]
  },
  {
   "cell_type": "code",
   "execution_count": null,
   "metadata": {},
   "outputs": [],
   "source": [
    "def utility_1(board: Board) -> int:\n",
    "    \"\"\"\n",
    "    Función de utilidad 1.\n",
    "    :param board: Tablero.\n",
    "    :return: Utilidad calculada del tablero.\n",
    "    \"\"\"\n",
    "    score = calculate_score(board)\n",
    "    empty_cells = count_empty_cells(board)\n",
    "    similarity = calculate_similarity(board)\n",
    "    monotony = calculate_monotony(board)\n",
    "\n",
    "    return score + monotony - similarity + math.log(score)*empty_cells\n",
    "\n",
    "def utility_2(board: Board) -> int:\n",
    "    \"\"\"\n",
    "    Función de utilidad 2.\n",
    "    :param board: Tablero.\n",
    "    :return: Utilidad calculada del tablero.\n",
    "    \"\"\"\n",
    "    score = calculate_score(board)\n",
    "    empty_cells = count_empty_cells(board)\n",
    "    similarity = calculate_similarity(board)\n",
    "    monotony = calculate_monotony(board)\n",
    "\n",
    "    return monotony - similarity + math.log(score)*empty_cells\n",
    "\n",
    "def utility_3(board: Board) -> int:\n",
    "    \"\"\"\n",
    "    Función de utilidad 3.\n",
    "    :param board: Tablero.\n",
    "    :return: Utilidad calculada del tablero.\n",
    "    \"\"\"\n",
    "    score = calculate_score(board)\n",
    "    empty_cells = count_empty_cells(board)\n",
    "    similarity = calculate_similarity(board)\n",
    "\n",
    "    return score - similarity + math.log(score)*empty_cells\n",
    "\n",
    "def utility_4(board: Board) -> int:\n",
    "    \"\"\"\n",
    "    Función de utilidad 4.\n",
    "    :param board: Tablero.\n",
    "    :return: Utilidad calculada del tablero.\n",
    "    \"\"\"\n",
    "    score = calculate_score(board)\n",
    "    empty_cells = count_empty_cells(board)\n",
    "    monotony = calculate_monotony(board)\n",
    "    max_tile = get_max_tile(board)\n",
    "\n",
    "    return score + empty_cells*math.log2(max_tile) + monotony\n",
    "\n",
    "def custom_utility_1(board: Board):\n",
    "    \"\"\"\n",
    "    Función de utilidad propia 1.\n",
    "    :param board: Tablero.\n",
    "    :return: Utilidad calculada del tablero.\n",
    "    \"\"\"\n",
    "    score = calculate_score(board)\n",
    "    empty_cells = count_empty_cells(board)\n",
    "    monotony = calculate_monotony(board)\n",
    "    max_tile = get_max_tile(board)\n",
    "    possible_merges = count_possible_merges(board)\n",
    "\n",
    "    return score + empty_cells*math.log2(max_tile) + monotony + possible_merges"
   ]
  },
  {
   "cell_type": "markdown",
   "metadata": {},
   "source": [
    "## Función de utilidad usada\n",
    "\n",
    "Para cambiar la función de utilidad usada, cambiar el valor de esta variable a la función a utilizar."
   ]
  },
  {
   "cell_type": "code",
   "execution_count": null,
   "metadata": {},
   "outputs": [],
   "source": [
    "calculate_utility = utility_4"
   ]
  },
  {
   "cell_type": "markdown",
   "metadata": {},
   "source": [
    "## Algoritmo Minimax\n",
    "\n",
    "Funciones relacionadas con Minimax"
   ]
  },
  {
   "cell_type": "code",
   "execution_count": null,
   "metadata": {},
   "outputs": [],
   "source": [
    "def get_max_children(board: Board) -> map:\n",
    "    \"\"\"\n",
    "    Obtiene los tableros hijo del tablero actual cuando se esté maximizando.\n",
    "    :param board: Tablero.\n",
    "    :return: Tableros hijo.\n",
    "    \"\"\"\n",
    "    possible_moves = get_possible_moves(board)\n",
    "    return map(lambda m: move(board, m), possible_moves)\n",
    "\n",
    "\n",
    "def minimax_maximize(board: Board, depth: int, alpha=-maxsize, beta=maxsize) -> int:\n",
    "    \"\"\"\n",
    "    Función de minimax para maximizar.\n",
    "    :param board: Tablero con el que se trabaja.\n",
    "    :param depth: Profundidad a la que se ha llegado.\n",
    "    :param alpha: Alfa.\n",
    "    :param beta: Beta.\n",
    "    :return: Evaluación.\n",
    "    \"\"\"\n",
    "    if depth == 0: return calculate_utility(board)\n",
    "\n",
    "    max_evaluation = -maxsize\n",
    "    for child in get_max_children(board):\n",
    "        evaluation = minimax_minimize(child, depth - 1, alpha, beta)\n",
    "        max_evaluation = max(evaluation, max_evaluation)\n",
    "        alpha = max(alpha, evaluation)\n",
    "        if beta <= alpha:\n",
    "            break\n",
    "\n",
    "    return max_evaluation\n",
    "\n",
    "\n",
    "def get_min_children(board: Board):\n",
    "    \"\"\"\n",
    "    Obtiene los tablero hijo a los que se puede llegar desde el tablero dado\n",
    "    en caso de estar minimizando.\n",
    "    :param board: Tablero actual.\n",
    "    :return: Hijos del tablero.\n",
    "    \"\"\"\n",
    "    empty_cells = get_empty_cells(board)\n",
    "    tile = min(Game.new_tile_tile)\n",
    "    return map(lambda cell: add_tile(board, cell, tile), empty_cells)\n",
    "\n",
    "\n",
    "def minimax_minimize(board: Board, depth: int, alpha=-maxsize, beta=maxsize) -> int:\n",
    "    \"\"\"\n",
    "    Función de minimax para minimizar.\n",
    "    :param board: Tablero con el que se trabaja.\n",
    "    :param depth: Profundidad a la que se ha llegado.\n",
    "    :param alpha: Alfa.\n",
    "    :param beta: Beta.\n",
    "    :return: Evaluación.\n",
    "    \"\"\"\n",
    "    if depth == 0: return calculate_utility(board)\n",
    "\n",
    "    min_evaluation = maxsize\n",
    "    for child in get_min_children(board):\n",
    "        evaluation = minimax_maximize(child, depth - 1, alpha, beta)\n",
    "        min_evaluation = min(evaluation, min_evaluation)\n",
    "        beta = min(beta, evaluation)\n",
    "        if beta <= alpha:\n",
    "            break\n",
    "\n",
    "    return min_evaluation\n",
    "\n",
    "\n",
    "def get_best_move(board: Board) -> Direction:\n",
    "    \"\"\"\n",
    "    Obtiene el mejor movimiento calculado sobre el tablero dado..\n",
    "    :param board: Tablero.\n",
    "    :return: Mejor movimiento.\n",
    "    \"\"\"\n",
    "    possible_moves = get_possible_moves(board)\n",
    "    return max(possible_moves, key=lambda m: minimax_minimize(move(board, m), AI.depth - 1))"
   ]
  },
  {
   "cell_type": "markdown",
   "metadata": {},
   "source": [
    "## Clase AI\n",
    "\n",
    "Clase que inicializa el funcionamiento de minimax, contiene la profundidad con la que se va a ejecutar el algoritmo."
   ]
  },
  {
   "cell_type": "code",
   "execution_count": null,
   "metadata": {},
   "outputs": [],
   "source": [
    "class AI:\n",
    "    depth = 6\n",
    "\n",
    "    def __init__(self):\n",
    "        self.game = GameGui()\n",
    "        while not has_finished(self.game.board):\n",
    "            best_move = get_best_move(self.game.board)\n",
    "            self.game.move(best_move)"
   ]
  },
  {
   "cell_type": "code",
   "execution_count": null,
   "metadata": {},
   "outputs": [],
   "source": [
    "if __name__ == '__main__' and '__file__' not in globals():\n",
    "    ai = AI()"
   ]
  }
 ],
 "metadata": {
  "kernelspec": {
   "display_name": "Python 3 (ipykernel)",
   "language": "python",
   "name": "python3"
  },
  "language_info": {
   "codemirror_mode": {
    "name": "ipython",
    "version": 3
   },
   "file_extension": ".py",
   "mimetype": "text/x-python",
   "name": "python",
   "nbconvert_exporter": "python",
   "pygments_lexer": "ipython3",
   "version": "3.10.8"
  }
 },
 "nbformat": 4,
 "nbformat_minor": 1
}
