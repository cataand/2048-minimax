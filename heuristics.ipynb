{
 "cells": [
  {
   "cell_type": "code",
   "execution_count": null,
   "metadata": {
    "pycharm": {
     "is_executing": true
    }
   },
   "outputs": [],
   "source": [
    "import math\n",
    "import statistics\n",
    "\n",
    "import numpy as np\n",
    "\n",
    "%run game.ipynb"
   ]
  },
  {
   "cell_type": "markdown",
   "metadata": {},
   "source": [
    "## Score"
   ]
  },
  {
   "cell_type": "code",
   "execution_count": null,
   "metadata": {},
   "outputs": [],
   "source": [
    "@cache\n",
    "def calculate_tile_score(tile: Tile) -> int:\n",
    "    \"\"\"\n",
    "    Obtiene el score correspondiente a la baldosa dada.\n",
    "    :param tile: Baldosa.\n",
    "    :return: Score de la baldosa.\n",
    "    \"\"\"\n",
    "    if not tile: return 1\n",
    "    return tile * (math.log2(tile) - 1)\n",
    "\n",
    "\n",
    "def calculate_score(board: Board) -> int:\n",
    "    \"\"\"\n",
    "    Obtiene el score del tablero dado.\n",
    "    :param board: Tablero.\n",
    "    :return: Score del tablero.\n",
    "    \"\"\"\n",
    "    return sum(calculate_tile_score(tile) for tile in board.flat)"
   ]
  },
  {
   "cell_type": "markdown",
   "metadata": {},
   "source": [
    "## Celdas vacías"
   ]
  },
  {
   "cell_type": "code",
   "execution_count": null,
   "metadata": {},
   "outputs": [],
   "source": [
    "def count_empty_cells(board: Board) -> int:\n",
    "    \"\"\"\n",
    "    Obtiene el número de celdas vacías del tablero dado.\n",
    "    :param board: Tablero.\n",
    "    :return: Celdas vacías del tablero.\n",
    "    \"\"\"\n",
    "    return len(get_empty_cells(board))"
   ]
  },
  {
   "cell_type": "markdown",
   "metadata": {},
   "source": [
    "## Similitud"
   ]
  },
  {
   "cell_type": "code",
   "execution_count": null,
   "metadata": {},
   "outputs": [],
   "source": [
    "@cache\n",
    "def get_neighbor_cells(cell: Cell) -> filter:\n",
    "    \"\"\"\n",
    "    Obtiene las celdas vecinas pertenecientes al tablero de la celda dada.\n",
    "    :param cell: Celda.\n",
    "    :return: Celdas vecinas.\n",
    "    \"\"\"\n",
    "    vectors = [\n",
    "        (-1, -1),\n",
    "        (-1, 0),\n",
    "        (-1, 1),\n",
    "        (0, -1),\n",
    "        (0, 1),\n",
    "        (1, -1),\n",
    "        (1, 0),\n",
    "        (1, 1)\n",
    "    ]\n",
    "\n",
    "    return filter(\n",
    "        lambda c: in_board(c),\n",
    "        map(\n",
    "            lambda v: sum_vectors(v, cell),\n",
    "            vectors\n",
    "        )\n",
    "    )\n",
    "\n",
    "\n",
    "def calculate_similarity(board: Board) -> int:\n",
    "    \"\"\"\n",
    "    Obtiene la similitud del tablero dado.\n",
    "    :param board: Tablero\n",
    "    :return: Similitud del tablero.\n",
    "    \"\"\"\n",
    "    similarity = 0\n",
    "\n",
    "    for cell, tile in np.ndenumerate(board):\n",
    "        if not tile: continue\n",
    "\n",
    "        neighbor_cells = get_neighbor_cells(cell)\n",
    "        neighbor_tiles = map(lambda c: board[cell], neighbor_cells)\n",
    "\n",
    "        # Filtrar celdas vacías\n",
    "        neighbor_tiles = filter(lambda t: t, neighbor_tiles)\n",
    "        differences = tuple(map(lambda t: abs(t - tile), neighbor_tiles))\n",
    "\n",
    "        # Si ha habido celdas ocupadas.\n",
    "        if len(differences):\n",
    "            similarity += statistics.fmean(differences)\n",
    "\n",
    "    return similarity"
   ]
  },
  {
   "cell_type": "markdown",
   "metadata": {},
   "source": [
    "## Monotonía"
   ]
  },
  {
   "cell_type": "code",
   "execution_count": null,
   "metadata": {},
   "outputs": [],
   "source": [
    "def calculate_monotony(board: Board) -> int:\n",
    "    \"\"\"\n",
    "    Obtiene la monotonía del tablero dado.\n",
    "    :param board: Tablero.\n",
    "    :return: Monotonía del tablero.\n",
    "    \"\"\"\n",
    "    monotony_matrix = np.array([\n",
    "        [7, 6, 5, 4],\n",
    "        [6, 5, 4, 3],\n",
    "        [5, 4, 3, 2],\n",
    "        [4, 3, 2, 1]\n",
    "    ], dtype=np.uint8\n",
    "    )\n",
    "\n",
    "    return np.multiply(board, monotony_matrix).sum()"
   ]
  },
  {
   "cell_type": "markdown",
   "metadata": {},
   "source": [
    "## Baldosa máxima"
   ]
  },
  {
   "cell_type": "code",
   "execution_count": null,
   "metadata": {},
   "outputs": [],
   "source": [
    "def get_max_tile(board: Board) -> Tile:\n",
    "    \"\"\"\n",
    "    Obtiene le valor de la baldosa máxima.\n",
    "    :param board: Tablero.\n",
    "    :return: Baldosa máxima.\n",
    "    \"\"\"\n",
    "    return np.max(board)"
   ]
  },
  {
   "cell_type": "markdown",
   "metadata": {},
   "source": [
    "# Heurísticas propias\n",
    "\n",
    "Estas son heurísticas que se me han ocurrido."
   ]
  },
  {
   "cell_type": "markdown",
   "metadata": {},
   "source": [
    "## Número de fusiones posibles"
   ]
  },
  {
   "cell_type": "code",
   "execution_count": null,
   "metadata": {},
   "outputs": [],
   "source": [
    "def count_possible_merges(board: Board) -> int:\n",
    "    \"\"\"\n",
    "    Obtiene el número de baldosas iguales que están una al lado de la otra en el tablero dado.\n",
    "    No las tiene en cuenta si hay espacios entre medias.\n",
    "    :param board: Tablero.\n",
    "    :return: Número combinaciones posibles.\n",
    "    \"\"\"\n",
    "    count = 0\n",
    "\n",
    "    for cell, tile in np.ndenumerate(board):\n",
    "        for direction in (Direction.DOWN, Direction.RIGHT):\n",
    "            next_cell = sum_vectors(cell, direction.vector)\n",
    "            if in_board(next_cell) and tile == board[next_cell]:\n",
    "                count += 1\n",
    "\n",
    "    return count"
   ]
  },
  {
   "cell_type": "markdown",
   "metadata": {},
   "source": [
    "## Monotonía en forma de serpiente"
   ]
  },
  {
   "cell_type": "code",
   "execution_count": null,
   "metadata": {},
   "outputs": [],
   "source": [
    "def calculate_snake_monotony(board: Board) -> int:\n",
    "    \"\"\"\n",
    "    Obtiene la monotonía del tablero dado con una monotonía en forma de serpiente.\n",
    "    :param board: Tablero.\n",
    "    :return: Monotonía del tablero.\n",
    "    \"\"\"\n",
    "    monotony_matrix = np.array([\n",
    "        [255, 128, 64, 32],\n",
    "        [2, 4, 8, 16],\n",
    "        [1, 0, 0, 0],\n",
    "        [0, 0, 0, 0]\n",
    "    ], dtype=np.uint8\n",
    "    )\n",
    "\n",
    "    return np.multiply(board, monotony_matrix).sum()"
   ]
  },
  {
   "cell_type": "markdown",
   "metadata": {},
   "source": [
    "## Número de movimientos posibles"
   ]
  },
  {
   "cell_type": "code",
   "execution_count": null,
   "metadata": {},
   "outputs": [],
   "source": [
    "def count_possible_moves(board: Board) -> int:\n",
    "    return len(get_possible_moves(board))"
   ]
  }
 ],
 "metadata": {
  "kernelspec": {
   "display_name": "Python 3 (ipykernel)",
   "language": "python",
   "name": "python3"
  },
  "language_info": {
   "codemirror_mode": {
    "name": "ipython",
    "version": 3
   },
   "file_extension": ".py",
   "mimetype": "text/x-python",
   "name": "python",
   "nbconvert_exporter": "python",
   "pygments_lexer": "ipython3",
   "version": "3.10.0"
  }
 },
 "nbformat": 4,
 "nbformat_minor": 1
}
