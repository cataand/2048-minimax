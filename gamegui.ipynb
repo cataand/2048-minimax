{
 "cells": [
  {
   "cell_type": "code",
   "execution_count": null,
   "metadata": {},
   "outputs": [],
   "source": [
    "import math\n",
    "from dataclasses import dataclass\n",
    "\n",
    "from ipywidgets import HTML\n",
    "from ipywidgets import Button, VBox, HBox\n",
    "from IPython.display import display\n",
    "\n",
    "import jinja2\n",
    "\n",
    "# Ejecuta el notebook que contine sus dependencias.\n",
    "%run game.ipynb"
   ]
  },
  {
   "cell_type": "markdown",
   "metadata": {},
   "source": [
    "## Clase GuiTile\n",
    "\n",
    "Esta clase contiene información que se va a utilizar para renderizar la baldosa con la que corresponden.\n",
    "\n",
    "El decorador @cache de las funciones crea un diccionario con los diferentes parámetros con los que se ha utilizado la función junto con los valores que se han devuelto. Antes de ejecutar la función se consulta este diccionario y en caso de que los parámetros se encuentren el él, se toma el valor diréctamente."
   ]
  },
  {
   "cell_type": "code",
   "execution_count": null,
   "metadata": {},
   "outputs": [],
   "source": [
    "@cache\n",
    "def calculate_background_color(tile: Tile) -> str:\n",
    "    \"\"\"\n",
    "    Calcula el color de fondo que deberá tener cada baldosa.\n",
    "    :param tile: Baldosa.\n",
    "    :return: Color de fondo de la baldosa.\n",
    "    \"\"\"\n",
    "    hue = np.interp(math.log2(tile), [1, Game.rows * Game.cols], [31, 360])\n",
    "    return f\"hsl({hue}, 80%, 80%)\"\n",
    "\n",
    "\n",
    "@cache\n",
    "def calculate_font_size(tile: Tile):\n",
    "    \"\"\"\n",
    "    Calcula el tamaño de fuente del texto de la baldosa para que\n",
    "    el texto no se pueda salir de la misma.\n",
    "    :param tile:\n",
    "    :return:\n",
    "    \"\"\"\n",
    "    length = len(str(int(tile)))\n",
    "    return min(14.9 * pow(length, -0.992), 5)\n",
    "\n",
    "\n",
    "@dataclass\n",
    "class GuiTile:\n",
    "    value: int\n",
    "    origin: Cell\n",
    "    destination: Cell\n",
    "    is_new: bool = False\n",
    "\n",
    "    @property\n",
    "    def background_color(self):\n",
    "        return calculate_background_color(self.value)\n",
    "\n",
    "    @property\n",
    "    def font_size(self):\n",
    "        return calculate_font_size(self.value)"
   ]
  },
  {
   "cell_type": "markdown",
   "metadata": {},
   "source": [
    "## Mover GUI\n",
    "\n",
    "Es igual que move() de game.ipynb, pero obtiene a su vez una lista con las baldosas que se deben renderizar."
   ]
  },
  {
   "cell_type": "code",
   "execution_count": null,
   "metadata": {},
   "outputs": [],
   "source": [
    "def move_gui(board: Board, direction: Direction) -> tuple[Board, list[GuiTile]]:\n",
    "    \"\"\"\n",
    "    Obtiene un tablero resultado de mover el tablero dado en la dirección dada,\n",
    "    junto con la información necesaria para mostrar los movimientos realizados.\n",
    "    :param board: Tablero sobre el que realizar el movimiento.\n",
    "    :param direction: Dirección en la que mover.\n",
    "    :return: Tablero movido e información de movimientos.\n",
    "    \"\"\"\n",
    "    moved = create_board()\n",
    "    # Conjunto ya que facilita la consulta de pertenencia.\n",
    "    merged = set()\n",
    "\n",
    "    gui_tiles = []\n",
    "\n",
    "    for original_cell in get_board_cells(direction):\n",
    "        tile = board[original_cell]\n",
    "        if not tile:\n",
    "            continue\n",
    "\n",
    "        last_cell, next_cell = get_last_and_next_cell(moved, original_cell, direction)\n",
    "\n",
    "        if in_board(next_cell) and tile == moved[next_cell] and next_cell not in merged:\n",
    "            # Combinar\n",
    "            last_cell = next_cell\n",
    "\n",
    "            gui_tiles.append(GuiTile(tile, original_cell, last_cell))\n",
    "            gui_tiles.append(GuiTile(2 * tile, last_cell, last_cell, is_new=True))\n",
    "\n",
    "            moved[last_cell] = 2 * tile\n",
    "            merged.add(last_cell)\n",
    "        else:\n",
    "            # Mover\n",
    "            moved[last_cell] = tile\n",
    "            gui_tiles.append(GuiTile(tile, original_cell, last_cell))\n",
    "\n",
    "    return moved, gui_tiles"
   ]
  },
  {
   "cell_type": "markdown",
   "metadata": {},
   "source": [
    "## Añadir baldosa aleatoria GUI\n",
    "\n",
    "Añade una baldosa aleatoria y devuelve su información para ser renderizada."
   ]
  },
  {
   "cell_type": "code",
   "execution_count": null,
   "metadata": {},
   "outputs": [],
   "source": [
    "def add_random_tile_gui(board: Board) -> GuiTile:\n",
    "    \"\"\"\n",
    "    Añade una baldosa aleatoriamente y devuelve su información para ser mostrada.\n",
    "    :param board: Tablero.\n",
    "    :return: Información para mostrar la nueva baldosa.\n",
    "    \"\"\"\n",
    "    cell = get_next_cell(board)\n",
    "    tile = get_next_tile()\n",
    "    board[cell] = tile\n",
    "    return GuiTile(tile, cell, cell, is_new=True)"
   ]
  },
  {
   "cell_type": "markdown",
   "metadata": {},
   "source": [
    "## Jinja2\n",
    "\n",
    "Para realizar la creación del html correspondiente a cada estado del tablero, se ha utilizado la librería Jinja2, la cual es dependencia de Jupyter.\n",
    "\n",
    "Esta librería permite cargar plantillas con código html junto con un lenguaje muy similar a python, el cual se ejecuta al renderizar la plantilla. A esta plantilla le podemos pasar argumentos para definir qué es lo que se debe mostrar."
   ]
  },
  {
   "cell_type": "code",
   "execution_count": null,
   "metadata": {},
   "outputs": [],
   "source": [
    "def get_template() -> jinja2.Template:\n",
    "    \"\"\"\n",
    "    Carga la platilla de Jinja2.\n",
    "    :return: Plantilla de Jinja2.\n",
    "    \"\"\"\n",
    "    template_loader = jinja2.FileSystemLoader(searchpath=\"./\")\n",
    "    env = jinja2.Environment(loader=template_loader)\n",
    "    return env.get_template(\"template.jinja\")"
   ]
  },
  {
   "cell_type": "markdown",
   "metadata": {},
   "source": [
    "## Clase Juego GUI\n",
    "\n",
    "Clase que ejecuta el juego mostrando el tablero de forma gráfica como html. Esta clase no incluye controles para el jugador, por lo que será utilizada únicamente con minimax."
   ]
  },
  {
   "cell_type": "code",
   "execution_count": null,
   "metadata": {},
   "outputs": [],
   "source": [
    "class GameGui(Game):\n",
    "    template = get_template()\n",
    "\n",
    "    def __init__(self):\n",
    "        \"\"\"\n",
    "        Acciones que se realizan al iniciar el juego.\n",
    "        \"\"\"\n",
    "        self.board = create_board()\n",
    "\n",
    "        gui_tiles = [add_random_tile_gui(self.board) for _ in range(self.initial_tiles)]\n",
    "\n",
    "        self.html_board = HTML()\n",
    "        self.refresh_html(gui_tiles)\n",
    "        self.__post_init__()\n",
    "\n",
    "    def __post_init__(self):\n",
    "        display(self.html_board)\n",
    "\n",
    "    def move(self, direction: Direction):\n",
    "        \"\"\"\n",
    "        Realizar un movimiento.\n",
    "        \"\"\"\n",
    "        moved, gui_tiles = move_gui(self.board, direction)\n",
    "        if not np.array_equal(self.board, moved):\n",
    "            self.board = moved\n",
    "            gui_tiles.append(add_random_tile_gui(self.board))\n",
    "\n",
    "        self.refresh_html(gui_tiles)\n",
    "\n",
    "    def refresh_html(self, gui_tiles: list[GuiTile]):\n",
    "        self.html_board.value = self.template.render(\n",
    "            rows=Game.rows,\n",
    "            cols=Game.cols,\n",
    "            tiles=gui_tiles,\n",
    "            has_lost=has_lost(self.board),\n",
    "            has_won=has_won(self.board)\n",
    "        )"
   ]
  },
  {
   "cell_type": "markdown",
   "metadata": {},
   "source": [
    "## Clase juego GUI con controles\n",
    "\n",
    "Clase juego que incluye controles para el jugador."
   ]
  },
  {
   "cell_type": "code",
   "execution_count": null,
   "metadata": {},
   "outputs": [],
   "source": [
    "class GameGuiPlayer(GameGui):\n",
    "    def __post_init__(self):\n",
    "        html = VBox(children=[\n",
    "            self.html_board,\n",
    "            setup_control(self),\n",
    "        ])\n",
    "        display(html)\n",
    "\n",
    "\n",
    "def setup_control(game: GameGuiPlayer):\n",
    "    \"\"\"\n",
    "    Añade botones para que el jugador pueda interactuar con el juego.\n",
    "    :param game: Con el que se va a interactuar.\n",
    "    :return: Elemento que contiene los botones.\n",
    "    \"\"\"\n",
    "    up = Button(description=\"^\")\n",
    "    down = Button(description=\"v\")\n",
    "    right = Button(description=\">\")\n",
    "    left = Button(description=\"<\")\n",
    "\n",
    "    empty = Button(description=\" \")\n",
    "    empty.margin = 2\n",
    "\n",
    "    up.on_click(lambda _: game.move(Direction.UP))\n",
    "    down.on_click(lambda _: game.move(Direction.DOWN))\n",
    "    right.on_click(lambda _: game.move(Direction.RIGHT))\n",
    "    left.on_click(lambda _: game.move(Direction.LEFT))\n",
    "\n",
    "    return VBox([HBox([empty, up, empty]), HBox([left, down, right])])"
   ]
  },
  {
   "cell_type": "code",
   "execution_count": null,
   "metadata": {
    "scrolled": false
   },
   "outputs": [],
   "source": [
    "if __name__ == '__main__' and '__file__' not in globals():\n",
    "    g = GameGuiPlayer()"
   ]
  }
 ],
 "metadata": {
  "kernelspec": {
   "display_name": "Python 3 (ipykernel)",
   "language": "python",
   "name": "python3"
  },
  "language_info": {
   "codemirror_mode": {
    "name": "ipython",
    "version": 3
   },
   "file_extension": ".py",
   "mimetype": "text/x-python",
   "name": "python",
   "nbconvert_exporter": "python",
   "pygments_lexer": "ipython3",
   "version": "3.10.0"
  }
 },
 "nbformat": 4,
 "nbformat_minor": 1
}
