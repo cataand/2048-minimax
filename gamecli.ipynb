{
 "cells": [
  {
   "cell_type": "code",
   "execution_count": null,
   "metadata": {},
   "outputs": [],
   "source": [
    "# Ejecuta el notebook que contiene sus dependencias.\n",
    "%run game.ipynb"
   ]
  },
  {
   "cell_type": "markdown",
   "metadata": {},
   "source": [
    "## Impresión del tablero\n",
    "\n",
    "Como el tablero es un array de numpy, ya existe una representación bastante estética del mismo, pero si se quisiese cambiar en un futuro, sería tan simple como cambiar esta función."
   ]
  },
  {
   "cell_type": "code",
   "execution_count": null,
   "metadata": {},
   "outputs": [],
   "source": [
    "def print_board(board: Board):\n",
    "    \"\"\"\n",
    "    Forma en que se imprime el tablero.\n",
    "    Existe por si en un futuro se quisiera cambiar.\n",
    "    :param board: Tablero a imprimir.\n",
    "    \"\"\"\n",
    "    print(board)"
   ]
  },
  {
   "cell_type": "markdown",
   "metadata": {},
   "source": [
    "## Clase del Juego en CLI\n",
    "\n",
    "Juego en modo texto, no tiene controles, por lo que solo debería utilizarse con el algoritmo minimax."
   ]
  },
  {
   "cell_type": "code",
   "execution_count": null,
   "metadata": {},
   "outputs": [],
   "source": [
    "class GameCli(Game):\n",
    "    def __init__(self):\n",
    "        super().__init__()\n",
    "        print(\"Bienvenido al juego 2048.\")\n",
    "        print_board(self.board)\n",
    "\n",
    "    def move(self, direction: Direction):\n",
    "        print(\"\\nMovimiento:\", direction)\n",
    "        super().move(direction)\n",
    "        print_board(self.board)"
   ]
  },
  {
   "cell_type": "markdown",
   "metadata": {},
   "source": [
    "## Clase del Juego en CLI para Jugador\n",
    "\n",
    "Juego en modo texto, con interacción con el jugador."
   ]
  },
  {
   "cell_type": "code",
   "execution_count": null,
   "metadata": {},
   "outputs": [],
   "source": [
    "class GameCliPlayer(GameCli):\n",
    "    directions = {\n",
    "        \"AR\": Direction.UP,\n",
    "        \"DE\": Direction.RIGHT,\n",
    "        \"AB\": Direction.DOWN,\n",
    "        \"IZ\": Direction.LEFT,\n",
    "    }\n",
    "\n",
    "    def __init__(self):\n",
    "        super().__init__()\n",
    "\n",
    "        already_won = False\n",
    "\n",
    "        while not has_lost(self.board):\n",
    "            print(\"(AR=Arriba DE=Derecha AB=Abajo IZ=Izquierda)\")\n",
    "            next_move = input(\"Siguiente movimiento: \").upper()\n",
    "\n",
    "            while next_move not in self.directions.keys():\n",
    "                next_move = input(\"Movimiento inválido. Siguiente movimiento: \").upper()\n",
    "\n",
    "            self.move(self.directions[next_move])\n",
    "\n",
    "            if not already_won and has_won(self.board):\n",
    "                print(\"Felicidades, has ganado.\")\n",
    "                continue_game = input(\"Deseas seguir jugando? (s/n)\")\n",
    "                self.already_won = True\n",
    "                if continue_game.lower() == \"n\":\n",
    "                    break"
   ]
  },
  {
   "cell_type": "code",
   "execution_count": null,
   "metadata": {},
   "outputs": [],
   "source": [
    "if __name__ == '__main__' and '__file__' not in globals():\n",
    "    g = GameCliPlayer()\n"
   ]
  }
 ],
 "metadata": {
  "kernelspec": {
   "display_name": "Python 3 (ipykernel)",
   "language": "python",
   "name": "python3"
  },
  "language_info": {
   "codemirror_mode": {
    "name": "ipython",
    "version": 3
   },
   "file_extension": ".py",
   "mimetype": "text/x-python",
   "name": "python",
   "nbconvert_exporter": "python",
   "pygments_lexer": "ipython3",
   "version": "3.10.0"
  }
 },
 "nbformat": 4,
 "nbformat_minor": 1
}
